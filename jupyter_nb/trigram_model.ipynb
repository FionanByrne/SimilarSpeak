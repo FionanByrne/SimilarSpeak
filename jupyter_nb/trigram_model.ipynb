{
 "cells": [
  {
   "cell_type": "code",
   "execution_count": 17,
   "metadata": {
    "scrolled": true
   },
   "outputs": [],
   "source": [
    "import nltk\n",
    "from nltk.corpus import brown\n",
    "from nltk import TrigramCollocationFinder, ngrams, BigramCollocationFinder\n",
    "from nltk.collocations import TrigramAssocMeasures"
   ]
  },
  {
   "cell_type": "code",
   "execution_count": 18,
   "metadata": {},
   "outputs": [],
   "source": [
    "test_word = ['T', 'R', \"T\", 'R', 'T', 'R', 'T', 'AY', 'N', 'Z', \"AY\", \"N\"]"
   ]
  },
  {
   "cell_type": "code",
   "execution_count": 19,
   "metadata": {},
   "outputs": [],
   "source": [
    "tri_finder = TrigramCollocationFinder.from_words(test_word)\n",
    "bi_finder = BigramCollocationFinder.from_words(test_word)"
   ]
  },
  {
   "cell_type": "code",
   "execution_count": 20,
   "metadata": {},
   "outputs": [],
   "source": [
    "bi_finder.apply_freq_filter(1)\n",
    "bigram_measures = nltk.collocations.BigramAssocMeasures()\n",
    "#bi_finder.nbest(bigram_measures.pmi, 10)"
   ]
  },
  {
   "cell_type": "code",
   "execution_count": 21,
   "metadata": {},
   "outputs": [],
   "source": [
    "dic1 = dict(sorted(tri_finder.ngram_fd.items(), key=lambda t: (-t[1], t[0])))\n",
    "dic2 = dict(sorted(bi_finder.ngram_fd.items(), key=lambda t: (-t[1], t[0])))"
   ]
  },
  {
   "cell_type": "code",
   "execution_count": 22,
   "metadata": {},
   "outputs": [
    {
     "name": "stdout",
     "output_type": "stream",
     "text": [
      "('T', 'R', 'T') 3\n",
      "('R', 'T', 'R') 2\n",
      "('AY', 'N', 'Z') 1\n",
      "('N', 'Z', 'AY') 1\n",
      "('R', 'T', 'AY') 1\n",
      "('T', 'AY', 'N') 1\n",
      "('Z', 'AY', 'N') 1\n"
     ]
    }
   ],
   "source": [
    "for k in dic1:\n",
    "    print(k, dic1[k])"
   ]
  },
  {
   "cell_type": "code",
   "execution_count": 23,
   "metadata": {},
   "outputs": [
    {
     "name": "stdout",
     "output_type": "stream",
     "text": [
      "('R', 'T') 3\n",
      "('T', 'R') 3\n",
      "('AY', 'N') 2\n",
      "('N', 'Z') 1\n",
      "('T', 'AY') 1\n",
      "('Z', 'AY') 1\n"
     ]
    }
   ],
   "source": [
    "for k in dic2:\n",
    "    print(k, dic2[k])"
   ]
  },
  {
   "cell_type": "code",
   "execution_count": 24,
   "metadata": {},
   "outputs": [
    {
     "data": {
      "text/plain": [
       "[['<s>', 'R', 'T', 'R', 'T', 'R', 'T', 'AY', 'N', '</s>'],\n",
       " ['</s>', '</s>'],\n",
       " ['</s>', '</s>'],\n",
       " ['</s>', 'K', 'AH', 'T', '</s>'],\n",
       " ['</s>', 'K', 'AH', 'T', '</s>']]"
      ]
     },
     "execution_count": 24,
     "metadata": {},
     "output_type": "execute_result"
    }
   ],
   "source": [
    "lis = set()\n",
    "syll = ['<s>', 'R', \"T\", 'R', 'T', 'R', 'T', 'AY', 'N', '</s>']\n",
    "syll2 = [\"</s>\", \"</s>\"]\n",
    "syll3 = [\"</s>\", \"K\", \"AH\", 'T', \"</s>\"]\n",
    "sylls = [syll] + [syll2] + [syll2] + [syll3] +[syll3]\n",
    "sylls"
   ]
  },
  {
   "cell_type": "code",
   "execution_count": 25,
   "metadata": {},
   "outputs": [
    {
     "data": {
      "text/plain": [
       "{('</s>', '</s>'),\n",
       " ('</s>', 'K', 'AH', 'T', '</s>'),\n",
       " ('<s>', 'R', 'T', 'R', 'T', 'R', 'T', 'AY', 'N', '</s>')}"
      ]
     },
     "execution_count": 25,
     "metadata": {},
     "output_type": "execute_result"
    }
   ],
   "source": [
    "unique_sylls =  set(tuple(i) for i in sylls)\n",
    "unique_sylls"
   ]
  },
  {
   "cell_type": "code",
   "execution_count": 26,
   "metadata": {},
   "outputs": [
    {
     "data": {
      "text/plain": [
       "['<s>',\n",
       " 'R',\n",
       " 'T',\n",
       " 'R',\n",
       " 'T',\n",
       " 'R',\n",
       " 'T',\n",
       " 'AY',\n",
       " 'N',\n",
       " '</s>',\n",
       " '</s>',\n",
       " '</s>',\n",
       " '</s>',\n",
       " 'K',\n",
       " 'AH',\n",
       " 'T',\n",
       " '</s>']"
      ]
     },
     "execution_count": 26,
     "metadata": {},
     "output_type": "execute_result"
    }
   ],
   "source": [
    "x = [i for syll in unique_sylls for i in syll]\n",
    "x"
   ]
  }
 ],
 "metadata": {
  "kernelspec": {
   "display_name": "Python 3",
   "language": "python",
   "name": "python3"
  },
  "language_info": {
   "codemirror_mode": {
    "name": "ipython",
    "version": 3
   },
   "file_extension": ".py",
   "mimetype": "text/x-python",
   "name": "python",
   "nbconvert_exporter": "python",
   "pygments_lexer": "ipython3",
   "version": "3.7.3"
  }
 },
 "nbformat": 4,
 "nbformat_minor": 2
}
