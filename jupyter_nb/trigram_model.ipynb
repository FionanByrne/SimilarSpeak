{
 "cells": [
  {
   "cell_type": "code",
   "execution_count": 1,
   "metadata": {
    "scrolled": true
   },
   "outputs": [],
   "source": [
    "import nltk\n",
    "from nltk.corpus import brown\n",
    "from nltk import TrigramCollocationFinder, ngrams, BigramCollocationFinder\n",
    "from nltk.collocations import TrigramAssocMeasures"
   ]
  },
  {
   "cell_type": "code",
   "execution_count": 2,
   "metadata": {},
   "outputs": [],
   "source": [
    "test_word = ['T', 'R', \"T\", 'R', 'T', 'R', 'T', 'AY', 'N', 'Z', \"AY\", \"N\"]"
   ]
  },
  {
   "cell_type": "code",
   "execution_count": 3,
   "metadata": {},
   "outputs": [],
   "source": [
    "# trigrams = list(ngrams(test_word, 3))\n",
    "# bigrams = list(ngrams(test_word, 2))\n",
    "# trigrams"
   ]
  },
  {
   "cell_type": "code",
   "execution_count": 4,
   "metadata": {},
   "outputs": [],
   "source": [
    "tri_finder = TrigramCollocationFinder.from_words(test_word)\n",
    "bi_finder = BigramCollocationFinder.from_words(test_word)"
   ]
  },
  {
   "cell_type": "code",
   "execution_count": 5,
   "metadata": {},
   "outputs": [],
   "source": [
    "bi_finder.apply_freq_filter(1)\n",
    "bigram_measures = nltk.collocations.BigramAssocMeasures()\n",
    "#bi_finder.nbest(bigram_measures.pmi, 10)"
   ]
  },
  {
   "cell_type": "code",
   "execution_count": 6,
   "metadata": {},
   "outputs": [],
   "source": [
    "dic1 = dict(sorted(tri_finder.ngram_fd.items(), key=lambda t: (-t[1], t[0])))\n",
    "dic2 = dict(sorted(bi_finder.ngram_fd.items(), key=lambda t: (-t[1], t[0])))"
   ]
  },
  {
   "cell_type": "code",
   "execution_count": 7,
   "metadata": {},
   "outputs": [
    {
     "name": "stdout",
     "output_type": "stream",
     "text": [
      "('T', 'R', 'T') 3\n",
      "('R', 'T', 'R') 2\n",
      "('AY', 'N', 'Z') 1\n",
      "('N', 'Z', 'AY') 1\n",
      "('R', 'T', 'AY') 1\n",
      "('T', 'AY', 'N') 1\n",
      "('Z', 'AY', 'N') 1\n"
     ]
    }
   ],
   "source": [
    "for k in dic1:\n",
    "    print(k, dic1[k])"
   ]
  },
  {
   "cell_type": "code",
   "execution_count": 8,
   "metadata": {},
   "outputs": [
    {
     "name": "stdout",
     "output_type": "stream",
     "text": [
      "('R', 'T') 3\n",
      "('T', 'R') 3\n",
      "('AY', 'N') 2\n",
      "('N', 'Z') 1\n",
      "('T', 'AY') 1\n",
      "('Z', 'AY') 1\n"
     ]
    }
   ],
   "source": [
    "for k in dic2:\n",
    "    print(k, dic2[k])"
   ]
  },
  {
   "cell_type": "code",
   "execution_count": 9,
   "metadata": {},
   "outputs": [
    {
     "ename": "ValueError",
     "evalue": "too many values to unpack (expected 1)",
     "output_type": "error",
     "traceback": [
      "\u001b[1;31m---------------------------------------------------------------------------\u001b[0m",
      "\u001b[1;31mValueError\u001b[0m                                Traceback (most recent call last)",
      "\u001b[1;32m<ipython-input-9-bbfbf022738b>\u001b[0m in \u001b[0;36m<module>\u001b[1;34m\u001b[0m\n\u001b[1;32m----> 1\u001b[1;33m \u001b[1;32mfor\u001b[0m \u001b[0ma\u001b[0m\u001b[1;33m,\u001b[0m \u001b[1;32min\u001b[0m \u001b[0mdic1\u001b[0m\u001b[1;33m:\u001b[0m\u001b[1;33m\u001b[0m\u001b[1;33m\u001b[0m\u001b[0m\n\u001b[0m\u001b[0;32m      2\u001b[0m     \u001b[0mprint\u001b[0m\u001b[1;33m(\u001b[0m\u001b[0ma\u001b[0m\u001b[1;33m,\u001b[0m\u001b[0mb\u001b[0m\u001b[1;33m)\u001b[0m\u001b[1;33m\u001b[0m\u001b[1;33m\u001b[0m\u001b[0m\n",
      "\u001b[1;31mValueError\u001b[0m: too many values to unpack (expected 1)"
     ]
    }
   ],
   "source": [
    "for a, in dic1:\n",
    "    print(a,b)"
   ]
  },
  {
   "cell_type": "code",
   "execution_count": null,
   "metadata": {},
   "outputs": [],
   "source": [
    "lis = set()\n",
    "syll = ['<s>', 'R', \"T\", 'R', 'T', 'R', 'T', 'AY', 'N', '</s>']\n",
    "syll2 = [\"</s>\", \"</s>\"]\n",
    "syll3 = [\"</s>\", \"K\", \"AH\", 'T', \"</s>\"]\n",
    "sylls = [syll] + [syll2] + [syll3]\n",
    "sylls"
   ]
  },
  {
   "cell_type": "code",
   "execution_count": null,
   "metadata": {},
   "outputs": [],
   "source": [
    "unique_sylls =  set(tuple(i) for i in sylls)\n",
    "unique_sylls"
   ]
  },
  {
   "cell_type": "code",
   "execution_count": null,
   "metadata": {},
   "outputs": [],
   "source": [
    "x = [i for syll in unique_sylls for i in syll]\n",
    "x"
   ]
  },
  {
   "cell_type": "code",
   "execution_count": null,
   "metadata": {},
   "outputs": [],
   "source": [
    "import cmudict\n",
    "consonants = [i[0] for i in cmudict.phones() if not i[1] == ['vowel']]\n",
    "test = [p for p in itertools.product(consonants, repeat=2)]\n",
    "test"
   ]
  },
  {
   "cell_type": "code",
   "execution_count": null,
   "metadata": {},
   "outputs": [],
   "source": []
  },
  {
   "cell_type": "code",
   "execution_count": null,
   "metadata": {},
   "outputs": [],
   "source": []
  }
 ],
 "metadata": {
  "kernelspec": {
   "display_name": "Python 3",
   "language": "python",
   "name": "python3"
  },
  "language_info": {
   "codemirror_mode": {
    "name": "ipython",
    "version": 3
   },
   "file_extension": ".py",
   "mimetype": "text/x-python",
   "name": "python",
   "nbconvert_exporter": "python",
   "pygments_lexer": "ipython3",
   "version": "3.7.3"
  }
 },
 "nbformat": 4,
 "nbformat_minor": 2
}
