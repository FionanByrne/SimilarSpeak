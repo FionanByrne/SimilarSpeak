{
 "cells": [
  {
   "cell_type": "code",
   "execution_count": 4,
   "metadata": {},
   "outputs": [],
   "source": [
    "def soundex(query: str):\n",
    "    \"\"\"\n",
    "    https://en.wikipedia.org/wiki/Soundex\n",
    "    :param query:\n",
    "    :return:\n",
    "    \"\"\"\n",
    "\n",
    "    # Step 0: Clean up the query string\n",
    "    query = query.lower()\n",
    "    letters = [char for char in query if char.isalpha()]\n",
    "\n",
    "    # Step 1: Save the first letter. Remove all occurrences of a, e, i, o, u, y, h, w.\n",
    "\n",
    "    # If query contains only 1 letter, return query+\"000\" (Refer step 5)\n",
    "    if len(query) == 1:\n",
    "        return query + \"000\"\n",
    "\n",
    "    to_remove = ('a', 'e', 'i', 'o', 'u', 'y', 'h', 'w')\n",
    "\n",
    "    first_letter = letters[0]\n",
    "    letters = letters[1:]\n",
    "    letters = [char for char in letters if char not in to_remove]\n",
    "\n",
    "    if len(letters) == 0:\n",
    "        return first_letter + \"000\"\n",
    "\n",
    "    # Step 2: Replace all consonants (include the first letter) with digits according to rules\n",
    "\n",
    "    to_replace = {('b', 'f', 'p', 'v'): 1, ('c', 'g', 'j', 'k', 'q', 's', 'x', 'z'): 2,\n",
    "                  ('d', 't'): 3, ('l',): 4, ('m', 'n'): 5, ('r',): 6}\n",
    "\n",
    "    first_letter = [value if first_letter else first_letter for group, value in to_replace.items()\n",
    "                    if first_letter in group]\n",
    "    letters = [value if char else char\n",
    "               for char in letters\n",
    "               for group, value in to_replace.items()\n",
    "               if char in group]\n",
    "\n",
    "    # Step 3: Replace all adjacent same digits with one digit.\n",
    "    letters = [char for ind, char in enumerate(letters)\n",
    "               if (ind == len(letters) - 1 or (ind+1 < len(letters) and char != letters[ind+1]))]\n",
    "\n",
    "    # Step 4: If the saved letter’s digit is the same the resulting first digit, remove the digit (keep the letter)\n",
    "    if first_letter == letters[0]:\n",
    "        letters[0] = query[0]\n",
    "    else:\n",
    "        letters.insert(0, query[0])\n",
    "\n",
    "    # Step 5: Append 3 zeros if result contains less than 3 digits.\n",
    "    # Remove all except first letter and 3 digits after it.\n",
    "\n",
    "    first_letter = letters[0]\n",
    "    letters = letters[1:]\n",
    "\n",
    "    letters = [char for char in letters if isinstance(char, int)][0:3]\n",
    "\n",
    "    while len(letters) < 3:\n",
    "        letters.append(0)\n",
    "\n",
    "    letters.insert(0, first_letter)\n",
    "\n",
    "    string = \"\".join([str(l) for l in letters])\n",
    "\n",
    "    return string"
   ]
  },
  {
   "cell_type": "code",
   "execution_count": 10,
   "metadata": {},
   "outputs": [
    {
     "data": {
      "text/plain": [
       "'a000'"
      ]
     },
     "execution_count": 10,
     "metadata": {},
     "output_type": "execute_result"
    }
   ],
   "source": [
    "soundex('aaa')"
   ]
  },
  {
   "cell_type": "code",
   "execution_count": 6,
   "metadata": {},
   "outputs": [
    {
     "data": {
      "text/plain": [
       "'s500'"
      ]
     },
     "execution_count": 6,
     "metadata": {},
     "output_type": "execute_result"
    }
   ],
   "source": [
    "soundex(\"Same\")"
   ]
  },
  {
   "cell_type": "code",
   "execution_count": null,
   "metadata": {},
   "outputs": [],
   "source": []
  }
 ],
 "metadata": {
  "kernelspec": {
   "display_name": "Python 3",
   "language": "python",
   "name": "python3"
  },
  "language_info": {
   "codemirror_mode": {
    "name": "ipython",
    "version": 3
   },
   "file_extension": ".py",
   "mimetype": "text/x-python",
   "name": "python",
   "nbconvert_exporter": "python",
   "pygments_lexer": "ipython3",
   "version": "3.7.3"
  }
 },
 "nbformat": 4,
 "nbformat_minor": 2
}
