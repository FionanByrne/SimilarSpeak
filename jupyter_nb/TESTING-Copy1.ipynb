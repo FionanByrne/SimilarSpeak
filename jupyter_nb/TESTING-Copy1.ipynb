{
 "cells": [
  {
   "cell_type": "markdown",
   "metadata": {},
   "source": [
    "# Test Execution times and average distances"
   ]
  },
  {
   "cell_type": "code",
   "execution_count": 1,
   "metadata": {},
   "outputs": [],
   "source": [
    "import os\n",
    "os.chdir(\"C:/Users/fiona/Desktop/SimilarSpeak/\")"
   ]
  },
  {
   "cell_type": "code",
   "execution_count": 2,
   "metadata": {},
   "outputs": [],
   "source": [
    "from word_generator import closest_edits\n",
    "from word_distance import WordDistance\n",
    "from syllabifier import Syllabifier\n",
    "from trigram_model import pronouncable\n",
    "import matplotlib.pyplot as plt\n",
    "import datamuse\n",
    "import operator\n",
    "import time\n",
    "import pandas as pd\n",
    "from itertools import chain, combinations, islice, accumulate"
   ]
  },
  {
   "cell_type": "code",
   "execution_count": 3,
   "metadata": {},
   "outputs": [],
   "source": [
    "# syllab = Syllabifier()\n",
    "# sylls_input = syllab.to_syllables(syllab.to_phoneme(\"log\"))\n",
    "# print(sylls_input)\n",
    "# sim_words, average_dist, ex_time = closest_edits(\"log\", sylls_input, experiment=True)"
   ]
  },
  {
   "cell_type": "code",
   "execution_count": 4,
   "metadata": {},
   "outputs": [],
   "source": [
    "words_to_test = [\"a\", \"cat\", \"tested\", \"triangle\"]"
   ]
  },
  {
   "cell_type": "code",
   "execution_count": 5,
   "metadata": {},
   "outputs": [],
   "source": [
    "experiment1 = pd.DataFrame(columns=[\"time\", \"average_dist\"])"
   ]
  },
  {
   "cell_type": "code",
   "execution_count": 6,
   "metadata": {},
   "outputs": [],
   "source": [
    "def test_generator1(word_name):\n",
    "    syllab = Syllabifier()\n",
    "    sylls_input = syllab.to_syllables(syllab.to_phoneme(word_name))\n",
    "    sim_words, average_dist, ex_time = closest_edits(word_name, sylls_input)\n",
    "    return ex_time, average_dist"
   ]
  },
  {
   "cell_type": "code",
   "execution_count": 7,
   "metadata": {
    "scrolled": false
   },
   "outputs": [
    {
     "name": "stderr",
     "output_type": "stream",
     "text": [
      "Words:[['AA'], ['AE'], ['AO'], ['AW'], ['AY'], ['EH'], ['ER'], ['EY'], ['IH'], ['IY'], ['OW'], ['OY'], ['UH'], ['UW'], ['B', 'AH'], ['CH', 'AH'], ['D', 'AH'], ['DH', 'AH'], ['F', 'AH'], ['G', 'AH'], ['HH', 'AH'], ['JH', 'AH'], ['K', 'AH'], ['L', 'AH'], ['M', 'AH'], ['N', 'AH'], ['P', 'AH'], ['R', 'AH'], ['S', 'AH'], ['SH', 'AH'], ['T', 'AH'], ['TH', 'AH'], ['V', 'AH'], ['W', 'AH'], ['Y', 'AH'], ['Z', 'AH'], ['ZH', 'AH'], ['B', 'AH'], ['CH', 'AH'], ['D', 'AH'], ['DH', 'AH'], ['F', 'AH'], ['G', 'AH'], ['HH', 'AH'], ['JH', 'AH'], ['K', 'AH'], ['L', 'AH'], ['M', 'AH'], ['N', 'AH'], ['P', 'AH'], ['R', 'AH'], ['S', 'AH'], ['SH', 'AH'], ['T', 'AH'], ['TH', 'AH'], ['V', 'AH'], ['W', 'AH'], ['Y', 'AH'], ['Z', 'AH'], ['ZH', 'AH'], ['AH', 'L'], ['AH', 'M'], ['AH', 'N'], ['AH', 'S'], ['AH', 'T'], ['AH', 'L'], ['AH', 'M'], ['AH', 'N'], ['AH', 'S'], ['AH', 'T']]\n",
      "Calculating word dist for ['AA']                  (1/70)\n",
      "Calculating word dist for ['AE']                  (2/70)\n",
      "Calculating word dist for ['AO']                  (3/70)\n",
      "Calculating word dist for ['AW']                  (4/70)\n",
      "Calculating word dist for ['AY']                  (5/70)\n",
      "Calculating word dist for ['EH']                  (6/70)\n",
      "Calculating word dist for ['ER']                  (7/70)\n",
      "Calculating word dist for ['EY']                  (8/70)\n",
      "Calculating word dist for ['IH']                  (9/70)\n",
      "Calculating word dist for ['IY']                  (10/70)\n",
      "Calculating word dist for ['OW']                  (11/70)\n",
      "Calculating word dist for ['OY']                  (12/70)\n",
      "Calculating word dist for ['UH']                  (13/70)\n",
      "Calculating word dist for ['UW']                  (14/70)\n",
      "Calculating word dist for ['B', 'AH']                  (15/70)\n",
      "Calculating word dist for ['CH', 'AH']                  (16/70)\n",
      "Calculating word dist for ['D', 'AH']                  (17/70)\n",
      "Calculating word dist for ['DH', 'AH']                  (18/70)\n",
      "Calculating word dist for ['F', 'AH']                  (19/70)\n",
      "Calculating word dist for ['G', 'AH']                  (20/70)\n",
      "Calculating word dist for ['HH', 'AH']                  (21/70)\n",
      "Calculating word dist for ['JH', 'AH']                  (22/70)\n",
      "Calculating word dist for ['K', 'AH']                  (23/70)\n",
      "Calculating word dist for ['L', 'AH']                  (24/70)\n",
      "Calculating word dist for ['M', 'AH']                  (25/70)\n",
      "Calculating word dist for ['N', 'AH']                  (26/70)\n",
      "Calculating word dist for ['P', 'AH']                  (27/70)\n",
      "Calculating word dist for ['R', 'AH']                  (28/70)\n",
      "Calculating word dist for ['S', 'AH']                  (29/70)\n",
      "Calculating word dist for ['SH', 'AH']                  (30/70)\n",
      "Calculating word dist for ['T', 'AH']                  (31/70)\n",
      "Calculating word dist for ['TH', 'AH']                  (32/70)\n",
      "Calculating word dist for ['V', 'AH']                  (33/70)\n",
      "Calculating word dist for ['W', 'AH']                  (34/70)\n",
      "Calculating word dist for ['Y', 'AH']                  (35/70)\n",
      "Calculating word dist for ['Z', 'AH']                  (36/70)\n",
      "Calculating word dist for ['ZH', 'AH']                  (37/70)\n",
      "Calculating word dist for ['B', 'AH']                  (38/70)\n",
      "Calculating word dist for ['CH', 'AH']                  (39/70)\n",
      "Calculating word dist for ['D', 'AH']                  (40/70)\n",
      "Calculating word dist for ['DH', 'AH']                  (41/70)\n",
      "Calculating word dist for ['F', 'AH']                  (42/70)\n",
      "Calculating word dist for ['G', 'AH']                  (43/70)\n",
      "Calculating word dist for ['HH', 'AH']                  (44/70)\n",
      "Calculating word dist for ['JH', 'AH']                  (45/70)\n",
      "Calculating word dist for ['K', 'AH']                  (46/70)\n",
      "Calculating word dist for ['L', 'AH']                  (47/70)\n",
      "Calculating word dist for ['M', 'AH']                  (48/70)\n",
      "Calculating word dist for ['N', 'AH']                  (49/70)\n",
      "Calculating word dist for ['P', 'AH']                  (50/70)\n",
      "Calculating word dist for ['R', 'AH']                  (51/70)\n",
      "Calculating word dist for ['S', 'AH']                  (52/70)\n",
      "Calculating word dist for ['SH', 'AH']                  (53/70)\n",
      "Calculating word dist for ['T', 'AH']                  (54/70)\n",
      "Calculating word dist for ['TH', 'AH']                  (55/70)\n",
      "Calculating word dist for ['V', 'AH']                  (56/70)\n",
      "Calculating word dist for ['W', 'AH']                  (57/70)\n",
      "Calculating word dist for ['Y', 'AH']                  (58/70)\n",
      "Calculating word dist for ['Z', 'AH']                  (59/70)\n",
      "Calculating word dist for ['ZH', 'AH']                  (60/70)\n",
      "Calculating word dist for ['AH', 'L']                  (61/70)\n",
      "Calculating word dist for ['AH', 'M']                  (62/70)\n",
      "Calculating word dist for ['AH', 'N']                  (63/70)\n",
      "Calculating word dist for ['AH', 'S']                  (64/70)\n",
      "Calculating word dist for ['AH', 'T']                  (65/70)\n",
      "Calculating word dist for ['AH', 'L']                  (66/70)\n",
      "Calculating word dist for ['AH', 'M']                  (67/70)\n",
      "Calculating word dist for ['AH', 'N']                  (68/70)\n",
      "Calculating word dist for ['AH', 'S']                  (69/70)\n",
      "Calculating word dist for ['AH', 'T']                  (70/70)\n",
      "AVERAGE_DIST: 1.8018292682926829\n",
      "EXECUTION_TIME:  2.00 mins          12.91 seconds\n",
      "Words:[['K', 'AH', 'T'], ['K', 'EH', 'T'], ['K', 'ER', 'T'], ['K', 'EY', 'T'], ['K', 'IH', 'T'], ['K', 'OW', 'T'], ['B', 'AE', 'T'], ['CH', 'AE', 'T'], ['G', 'AE', 'T'], ['K', 'AE', 'T'], ['L', 'AE', 'T'], ['M', 'AE', 'T'], ['N', 'AE', 'T'], ['P', 'AE', 'T'], ['R', 'AE', 'T'], ['S', 'AE', 'T'], ['SH', 'AE', 'T'], ['T', 'AE', 'T'], ['S', 'K', 'AE', 'T'], ['K', 'L', 'AE', 'T'], ['K', 'R', 'AE', 'T'], ['K', 'AE', 'L'], ['K', 'AE', 'M'], ['K', 'AE', 'N'], ['K', 'AE', 'P'], ['K', 'AE', 'S'], ['K', 'AE', 'T'], ['K', 'AE'], ['K', 'AE', 'N', 'T'], ['K', 'AE', 'P', 'T'], ['K', 'AE', 'S', 'T'], ['K', 'AE', 'T', 'S']]\n",
      "Calculating word dist for ['K', 'AH', 'T']                  (1/32)\n",
      "Calculating word dist for ['K', 'EH', 'T']                  (2/32)\n",
      "Calculating word dist for ['K', 'ER', 'T']                  (3/32)\n",
      "Calculating word dist for ['K', 'EY', 'T']                  (4/32)\n",
      "Calculating word dist for ['K', 'IH', 'T']                  (5/32)\n",
      "Calculating word dist for ['K', 'OW', 'T']                  (6/32)\n",
      "Calculating word dist for ['B', 'AE', 'T']                  (7/32)\n",
      "Calculating word dist for ['CH', 'AE', 'T']                  (8/32)\n",
      "Calculating word dist for ['G', 'AE', 'T']                  (9/32)\n",
      "Calculating word dist for ['K', 'AE', 'T']                  (10/32)\n",
      "Calculating word dist for ['L', 'AE', 'T']                  (11/32)\n",
      "Calculating word dist for ['M', 'AE', 'T']                  (12/32)\n",
      "Calculating word dist for ['N', 'AE', 'T']                  (13/32)\n",
      "Calculating word dist for ['P', 'AE', 'T']                  (14/32)\n",
      "Calculating word dist for ['R', 'AE', 'T']                  (15/32)\n",
      "Calculating word dist for ['S', 'AE', 'T']                  (16/32)\n",
      "Calculating word dist for ['SH', 'AE', 'T']                  (17/32)\n",
      "Calculating word dist for ['T', 'AE', 'T']                  (18/32)\n",
      "Calculating word dist for ['S', 'K', 'AE', 'T']                  (19/32)\n",
      "Calculating word dist for ['K', 'L', 'AE', 'T']                  (20/32)\n",
      "Calculating word dist for ['K', 'R', 'AE', 'T']                  (21/32)\n",
      "Calculating word dist for ['K', 'AE', 'L']                  (22/32)\n",
      "Calculating word dist for ['K', 'AE', 'M']                  (23/32)\n",
      "Calculating word dist for ['K', 'AE', 'N']                  (24/32)\n",
      "Calculating word dist for ['K', 'AE', 'P']                  (25/32)\n",
      "Calculating word dist for ['K', 'AE', 'S']                  (26/32)\n",
      "Calculating word dist for ['K', 'AE', 'T']                  (27/32)\n",
      "Calculating word dist for ['K', 'AE']                  (28/32)\n",
      "Calculating word dist for ['K', 'AE', 'N', 'T']                  (29/32)\n",
      "Calculating word dist for ['K', 'AE', 'P', 'T']                  (30/32)\n",
      "Calculating word dist for ['K', 'AE', 'S', 'T']                  (31/32)\n",
      "Calculating word dist for ['K', 'AE', 'T', 'S']                  (32/32)\n",
      "AVERAGE_DIST: 1.4737903225806452\n",
      "EXECUTION_TIME:  1.00 mins          2.58 seconds\n",
      "Words:[['T', 'AA'], ['T', 'AE'], ['T', 'AH'], ['T', 'AO'], ['T', 'AY'], ['T', 'ER'], ['T', 'EY'], ['T', 'IH'], ['T', 'IY'], ['T', 'OW'], ['B', 'EH'], ['CH', 'EH'], ['D', 'EH'], ['DH', 'EH'], ['F', 'EH'], ['G', 'EH'], ['HH', 'EH'], ['JH', 'EH'], ['K', 'EH'], ['L', 'EH'], ['M', 'EH'], ['N', 'EH'], ['P', 'EH'], ['R', 'EH'], ['S', 'EH'], ['SH', 'EH'], ['T', 'EH'], ['TH', 'EH'], ['V', 'EH'], ['W', 'EH'], ['Y', 'EH'], ['Z', 'EH'], ['ZH', 'EH'], ['EH'], ['S', 'T', 'EH'], ['T', 'R', 'EH'], ['T', 'EH', 'D'], ['T', 'EH', 'K'], ['T', 'EH', 'L'], ['T', 'EH', 'M'], ['T', 'EH', 'N'], ['T', 'EH', 'R'], ['T', 'EH', 'D'], ['T', 'EH', 'K'], ['T', 'EH', 'L'], ['T', 'EH', 'M'], ['T', 'EH', 'N'], ['T', 'EH', 'R']]\n",
      "Calculating word dist for ['T', 'AA', 'S', 'T', 'AH', 'D']                  (1/48)\n"
     ]
    },
    {
     "name": "stderr",
     "output_type": "stream",
     "text": [
      "Calculating word dist for ['T', 'AE', 'S', 'T', 'AH', 'D']                  (2/48)\n",
      "Calculating word dist for ['T', 'AH', 'S', 'T', 'AH', 'D']                  (3/48)\n",
      "Calculating word dist for ['T', 'AO', 'S', 'T', 'AH', 'D']                  (4/48)\n",
      "Calculating word dist for ['T', 'AY', 'S', 'T', 'AH', 'D']                  (5/48)\n",
      "Calculating word dist for ['T', 'ER', 'S', 'T', 'AH', 'D']                  (6/48)\n",
      "Calculating word dist for ['T', 'EY', 'S', 'T', 'AH', 'D']                  (7/48)\n",
      "Calculating word dist for ['T', 'IH', 'S', 'T', 'AH', 'D']                  (8/48)\n",
      "Calculating word dist for ['T', 'IY', 'S', 'T', 'AH', 'D']                  (9/48)\n",
      "Calculating word dist for ['T', 'OW', 'S', 'T', 'AH', 'D']                  (10/48)\n",
      "Calculating word dist for ['B', 'EH', 'S', 'T', 'AH', 'D']                  (11/48)\n",
      "Calculating word dist for ['CH', 'EH', 'S', 'T', 'AH', 'D']                  (12/48)\n",
      "Calculating word dist for ['D', 'EH', 'S', 'T', 'AH', 'D']                  (13/48)\n",
      "Calculating word dist for ['DH', 'EH', 'S', 'T', 'AH', 'D']                  (14/48)\n",
      "Calculating word dist for ['F', 'EH', 'S', 'T', 'AH', 'D']                  (15/48)\n",
      "Calculating word dist for ['G', 'EH', 'S', 'T', 'AH', 'D']                  (16/48)\n",
      "Calculating word dist for ['HH', 'EH', 'S', 'T', 'AH', 'D']                  (17/48)\n",
      "Calculating word dist for ['JH', 'EH', 'S', 'T', 'AH', 'D']                  (18/48)\n",
      "Calculating word dist for ['K', 'EH', 'S', 'T', 'AH', 'D']                  (19/48)\n",
      "Calculating word dist for ['L', 'EH', 'S', 'T', 'AH', 'D']                  (20/48)\n",
      "Calculating word dist for ['M', 'EH', 'S', 'T', 'AH', 'D']                  (21/48)\n",
      "Calculating word dist for ['N', 'EH', 'S', 'T', 'AH', 'D']                  (22/48)\n",
      "Calculating word dist for ['P', 'EH', 'S', 'T', 'AH', 'D']                  (23/48)\n",
      "Calculating word dist for ['R', 'EH', 'S', 'T', 'AH', 'D']                  (24/48)\n",
      "Calculating word dist for ['S', 'EH', 'S', 'T', 'AH', 'D']                  (25/48)\n",
      "Calculating word dist for ['SH', 'EH', 'S', 'T', 'AH', 'D']                  (26/48)\n",
      "Calculating word dist for ['T', 'EH', 'S', 'T', 'AH', 'D']                  (27/48)\n",
      "Calculating word dist for ['TH', 'EH', 'S', 'T', 'AH', 'D']                  (28/48)\n",
      "Calculating word dist for ['V', 'EH', 'S', 'T', 'AH', 'D']                  (29/48)\n",
      "Calculating word dist for ['W', 'EH', 'S', 'T', 'AH', 'D']                  (30/48)\n",
      "Calculating word dist for ['Y', 'EH', 'S', 'T', 'AH', 'D']                  (31/48)\n",
      "Calculating word dist for ['Z', 'EH', 'S', 'T', 'AH', 'D']                  (32/48)\n",
      "Calculating word dist for ['ZH', 'EH', 'S', 'T', 'AH', 'D']                  (33/48)\n",
      "Calculating word dist for ['EH', 'S', 'T', 'AH', 'D']                  (34/48)\n",
      "Calculating word dist for ['S', 'T', 'EH', 'S', 'T', 'AH', 'D']                  (35/48)\n",
      "Calculating word dist for ['T', 'R', 'EH', 'S', 'T', 'AH', 'D']                  (36/48)\n",
      "Calculating word dist for ['T', 'EH', 'D', 'S', 'T', 'AH', 'D']                  (37/48)\n",
      "Calculating word dist for ['T', 'EH', 'K', 'S', 'T', 'AH', 'D']                  (38/48)\n",
      "Calculating word dist for ['T', 'EH', 'L', 'S', 'T', 'AH', 'D']                  (39/48)\n",
      "Calculating word dist for ['T', 'EH', 'M', 'S', 'T', 'AH', 'D']                  (40/48)\n",
      "Calculating word dist for ['T', 'EH', 'N', 'S', 'T', 'AH', 'D']                  (41/48)\n",
      "Calculating word dist for ['T', 'EH', 'R', 'S', 'T', 'AH', 'D']                  (42/48)\n",
      "Calculating word dist for ['T', 'EH', 'D', 'S', 'T', 'AH', 'D']                  (43/48)\n",
      "Calculating word dist for ['T', 'EH', 'K', 'S', 'T', 'AH', 'D']                  (44/48)\n",
      "Calculating word dist for ['T', 'EH', 'L', 'S', 'T', 'AH', 'D']                  (45/48)\n",
      "Calculating word dist for ['T', 'EH', 'M', 'S', 'T', 'AH', 'D']                  (46/48)\n",
      "Calculating word dist for ['T', 'EH', 'N', 'S', 'T', 'AH', 'D']                  (47/48)\n",
      "Calculating word dist for ['T', 'EH', 'R', 'S', 'T', 'AH', 'D']                  (48/48)\n",
      "Words:[['S', 'T', 'EH', 'D'], ['S', 'T', 'ER', 'D'], ['S', 'T', 'IH', 'D'], ['S', 'T', 'AH', 'D'], ['S', 'T', 'AH', 'D'], ['T', 'AH', 'D'], ['S', 'T', 'AH', 'D'], ['S', 'T', 'AH', 'L'], ['S', 'T', 'AH', 'M'], ['S', 'T', 'AH', 'N'], ['S', 'T', 'AH', 'S'], ['S', 'T', 'AH'], ['S', 'T', 'AH', 'L', 'D'], ['S', 'T', 'AH', 'N', 'D'], ['S', 'T', 'AH', 'D', 'Z']]\n",
      "Calculating word dist for ['T', 'EH', 'S', 'T', 'EH', 'D']                  (1/15)\n",
      "Calculating word dist for ['T', 'EH', 'S', 'T', 'ER', 'D']                  (2/15)\n",
      "Calculating word dist for ['T', 'EH', 'S', 'T', 'IH', 'D']                  (3/15)\n",
      "Calculating word dist for ['T', 'EH', 'S', 'T', 'AH', 'D']                  (4/15)\n",
      "Calculating word dist for ['T', 'EH', 'S', 'T', 'AH', 'D']                  (5/15)\n",
      "Calculating word dist for ['T', 'EH', 'T', 'AH', 'D']                  (6/15)\n",
      "Calculating word dist for ['T', 'EH', 'S', 'T', 'AH', 'D']                  (7/15)\n",
      "Calculating word dist for ['T', 'EH', 'S', 'T', 'AH', 'L']                  (8/15)\n",
      "Calculating word dist for ['T', 'EH', 'S', 'T', 'AH', 'M']                  (9/15)\n",
      "Calculating word dist for ['T', 'EH', 'S', 'T', 'AH', 'N']                  (10/15)\n",
      "Calculating word dist for ['T', 'EH', 'S', 'T', 'AH', 'S']                  (11/15)\n",
      "Calculating word dist for ['T', 'EH', 'S', 'T', 'AH']                  (12/15)\n",
      "Calculating word dist for ['T', 'EH', 'S', 'T', 'AH', 'L', 'D']                  (13/15)\n",
      "Calculating word dist for ['T', 'EH', 'S', 'T', 'AH', 'N', 'D']                  (14/15)\n",
      "Calculating word dist for ['T', 'EH', 'S', 'T', 'AH', 'D', 'Z']                  (15/15)\n",
      "AVERAGE_DIST: 0.6776960784313726\n",
      "EXECUTION_TIME:  2.00 mins          8.72 seconds\n",
      "Words:[['T', 'R', 'AA'], ['T', 'R', 'AE'], ['T', 'R', 'AH'], ['T', 'R', 'EH'], ['T', 'R', 'EY'], ['T', 'R', 'IH'], ['T', 'R', 'IY'], ['T', 'R', 'OW'], ['T', 'R', 'UW'], ['B', 'R', 'AY'], ['D', 'R', 'AY'], ['F', 'R', 'AY'], ['K', 'R', 'AY'], ['P', 'R', 'AY'], ['SH', 'R', 'AY'], ['T', 'R', 'AY'], ['TH', 'R', 'AY'], ['T', 'R', 'AY'], ['R', 'AY'], ['T', 'AY'], ['S', 'T', 'R', 'AY'], ['T', 'R', 'AY', 'B'], ['T', 'R', 'AY', 'D'], ['T', 'R', 'AY', 'K'], ['T', 'R', 'AY', 'N'], ['T', 'R', 'AY', 'S'], ['T', 'R', 'AY', 'T'], ['T', 'R', 'AY', 'Z'], ['T', 'R', 'AY', 'B'], ['T', 'R', 'AY', 'D'], ['T', 'R', 'AY', 'K'], ['T', 'R', 'AY', 'N'], ['T', 'R', 'AY', 'S'], ['T', 'R', 'AY', 'T'], ['T', 'R', 'AY', 'Z']]\n",
      "Calculating word dist for ['T', 'R', 'AA', 'AE', 'NG', 'G', 'AH', 'L']                  (1/35)\n",
      "Calculating word dist for ['T', 'R', 'AE', 'AE', 'NG', 'G', 'AH', 'L']                  (2/35)\n",
      "Calculating word dist for ['T', 'R', 'AH', 'AE', 'NG', 'G', 'AH', 'L']                  (3/35)\n",
      "Calculating word dist for ['T', 'R', 'EH', 'AE', 'NG', 'G', 'AH', 'L']                  (4/35)\n",
      "Calculating word dist for ['T', 'R', 'EY', 'AE', 'NG', 'G', 'AH', 'L']                  (5/35)\n",
      "Calculating word dist for ['T', 'R', 'IH', 'AE', 'NG', 'G', 'AH', 'L']                  (6/35)\n",
      "Calculating word dist for ['T', 'R', 'IY', 'AE', 'NG', 'G', 'AH', 'L']                  (7/35)\n",
      "Calculating word dist for ['T', 'R', 'OW', 'AE', 'NG', 'G', 'AH', 'L']                  (8/35)\n",
      "Calculating word dist for ['T', 'R', 'UW', 'AE', 'NG', 'G', 'AH', 'L']                  (9/35)\n",
      "Calculating word dist for ['B', 'R', 'AY', 'AE', 'NG', 'G', 'AH', 'L']                  (10/35)\n",
      "Calculating word dist for ['D', 'R', 'AY', 'AE', 'NG', 'G', 'AH', 'L']                  (11/35)\n",
      "Calculating word dist for ['F', 'R', 'AY', 'AE', 'NG', 'G', 'AH', 'L']                  (12/35)\n",
      "Calculating word dist for ['K', 'R', 'AY', 'AE', 'NG', 'G', 'AH', 'L']                  (13/35)\n",
      "Calculating word dist for ['P', 'R', 'AY', 'AE', 'NG', 'G', 'AH', 'L']                  (14/35)\n",
      "Calculating word dist for ['SH', 'R', 'AY', 'AE', 'NG', 'G', 'AH', 'L']                  (15/35)\n",
      "Calculating word dist for ['T', 'R', 'AY', 'AE', 'NG', 'G', 'AH', 'L']                  (16/35)\n",
      "Calculating word dist for ['TH', 'R', 'AY', 'AE', 'NG', 'G', 'AH', 'L']                  (17/35)\n",
      "Calculating word dist for ['T', 'R', 'AY', 'AE', 'NG', 'G', 'AH', 'L']                  (18/35)\n",
      "Calculating word dist for ['R', 'AY', 'AE', 'NG', 'G', 'AH', 'L']                  (19/35)\n"
     ]
    },
    {
     "name": "stderr",
     "output_type": "stream",
     "text": [
      "Calculating word dist for ['T', 'AY', 'AE', 'NG', 'G', 'AH', 'L']                  (20/35)\n",
      "Calculating word dist for ['S', 'T', 'R', 'AY', 'AE', 'NG', 'G', 'AH', 'L']                  (21/35)\n",
      "Calculating word dist for ['T', 'R', 'AY', 'B', 'AE', 'NG', 'G', 'AH', 'L']                  (22/35)\n",
      "Calculating word dist for ['T', 'R', 'AY', 'D', 'AE', 'NG', 'G', 'AH', 'L']                  (23/35)\n",
      "Calculating word dist for ['T', 'R', 'AY', 'K', 'AE', 'NG', 'G', 'AH', 'L']                  (24/35)\n",
      "Calculating word dist for ['T', 'R', 'AY', 'N', 'AE', 'NG', 'G', 'AH', 'L']                  (25/35)\n",
      "Calculating word dist for ['T', 'R', 'AY', 'S', 'AE', 'NG', 'G', 'AH', 'L']                  (26/35)\n",
      "Calculating word dist for ['T', 'R', 'AY', 'T', 'AE', 'NG', 'G', 'AH', 'L']                  (27/35)\n",
      "Calculating word dist for ['T', 'R', 'AY', 'Z', 'AE', 'NG', 'G', 'AH', 'L']                  (28/35)\n",
      "Calculating word dist for ['T', 'R', 'AY', 'B', 'AE', 'NG', 'G', 'AH', 'L']                  (29/35)\n",
      "Calculating word dist for ['T', 'R', 'AY', 'D', 'AE', 'NG', 'G', 'AH', 'L']                  (30/35)\n",
      "Calculating word dist for ['T', 'R', 'AY', 'K', 'AE', 'NG', 'G', 'AH', 'L']                  (31/35)\n",
      "Calculating word dist for ['T', 'R', 'AY', 'N', 'AE', 'NG', 'G', 'AH', 'L']                  (32/35)\n",
      "Calculating word dist for ['T', 'R', 'AY', 'S', 'AE', 'NG', 'G', 'AH', 'L']                  (33/35)\n",
      "Calculating word dist for ['T', 'R', 'AY', 'T', 'AE', 'NG', 'G', 'AH', 'L']                  (34/35)\n",
      "Calculating word dist for ['T', 'R', 'AY', 'Z', 'AE', 'NG', 'G', 'AH', 'L']                  (35/35)\n",
      "Words:[['IH', 'NG'], ['B', 'AE', 'NG'], ['CH', 'AE', 'NG'], ['D', 'AE', 'NG'], ['F', 'AE', 'NG'], ['G', 'AE', 'NG'], ['HH', 'AE', 'NG'], ['JH', 'AE', 'NG'], ['L', 'AE', 'NG'], ['M', 'AE', 'NG'], ['P', 'AE', 'NG'], ['R', 'AE', 'NG'], ['S', 'AE', 'NG'], ['SH', 'AE', 'NG'], ['T', 'AE', 'NG'], ['TH', 'AE', 'NG'], ['V', 'AE', 'NG'], ['Y', 'AE', 'NG'], ['Z', 'AE', 'NG'], ['B', 'AE', 'NG'], ['CH', 'AE', 'NG'], ['D', 'AE', 'NG'], ['F', 'AE', 'NG'], ['G', 'AE', 'NG'], ['HH', 'AE', 'NG'], ['JH', 'AE', 'NG'], ['L', 'AE', 'NG'], ['M', 'AE', 'NG'], ['P', 'AE', 'NG'], ['R', 'AE', 'NG'], ['S', 'AE', 'NG'], ['SH', 'AE', 'NG'], ['T', 'AE', 'NG'], ['TH', 'AE', 'NG'], ['V', 'AE', 'NG'], ['Y', 'AE', 'NG'], ['Z', 'AE', 'NG'], ['AE', 'B'], ['AE', 'D'], ['AE', 'K'], ['AE', 'L'], ['AE', 'M'], ['AE', 'N'], ['AE', 'NG'], ['AE'], ['AE', 'NG', 'G'], ['AE', 'NG', 'K']]\n",
      "Calculating word dist for ['T', 'R', 'AY', 'IH', 'NG', 'G', 'AH', 'L']                  (1/47)\n",
      "Calculating word dist for ['T', 'R', 'AY', 'B', 'AE', 'NG', 'G', 'AH', 'L']                  (2/47)\n",
      "Calculating word dist for ['T', 'R', 'AY', 'CH', 'AE', 'NG', 'G', 'AH', 'L']                  (3/47)\n",
      "Calculating word dist for ['T', 'R', 'AY', 'D', 'AE', 'NG', 'G', 'AH', 'L']                  (4/47)\n",
      "Calculating word dist for ['T', 'R', 'AY', 'F', 'AE', 'NG', 'G', 'AH', 'L']                  (5/47)\n",
      "Calculating word dist for ['T', 'R', 'AY', 'G', 'AE', 'NG', 'G', 'AH', 'L']                  (6/47)\n",
      "Calculating word dist for ['T', 'R', 'AY', 'HH', 'AE', 'NG', 'G', 'AH', 'L']                  (7/47)\n",
      "Calculating word dist for ['T', 'R', 'AY', 'JH', 'AE', 'NG', 'G', 'AH', 'L']                  (8/47)\n",
      "Calculating word dist for ['T', 'R', 'AY', 'L', 'AE', 'NG', 'G', 'AH', 'L']                  (9/47)\n",
      "Calculating word dist for ['T', 'R', 'AY', 'M', 'AE', 'NG', 'G', 'AH', 'L']                  (10/47)\n",
      "Calculating word dist for ['T', 'R', 'AY', 'P', 'AE', 'NG', 'G', 'AH', 'L']                  (11/47)\n",
      "Calculating word dist for ['T', 'R', 'AY', 'R', 'AE', 'NG', 'G', 'AH', 'L']                  (12/47)\n",
      "Calculating word dist for ['T', 'R', 'AY', 'S', 'AE', 'NG', 'G', 'AH', 'L']                  (13/47)\n",
      "Calculating word dist for ['T', 'R', 'AY', 'SH', 'AE', 'NG', 'G', 'AH', 'L']                  (14/47)\n",
      "Calculating word dist for ['T', 'R', 'AY', 'T', 'AE', 'NG', 'G', 'AH', 'L']                  (15/47)\n",
      "Calculating word dist for ['T', 'R', 'AY', 'TH', 'AE', 'NG', 'G', 'AH', 'L']                  (16/47)\n",
      "Calculating word dist for ['T', 'R', 'AY', 'V', 'AE', 'NG', 'G', 'AH', 'L']                  (17/47)\n",
      "Calculating word dist for ['T', 'R', 'AY', 'Y', 'AE', 'NG', 'G', 'AH', 'L']                  (18/47)\n",
      "Calculating word dist for ['T', 'R', 'AY', 'Z', 'AE', 'NG', 'G', 'AH', 'L']                  (19/47)\n",
      "Calculating word dist for ['T', 'R', 'AY', 'B', 'AE', 'NG', 'G', 'AH', 'L']                  (20/47)\n",
      "Calculating word dist for ['T', 'R', 'AY', 'CH', 'AE', 'NG', 'G', 'AH', 'L']                  (21/47)\n",
      "Calculating word dist for ['T', 'R', 'AY', 'D', 'AE', 'NG', 'G', 'AH', 'L']                  (22/47)\n",
      "Calculating word dist for ['T', 'R', 'AY', 'F', 'AE', 'NG', 'G', 'AH', 'L']                  (23/47)\n",
      "Calculating word dist for ['T', 'R', 'AY', 'G', 'AE', 'NG', 'G', 'AH', 'L']                  (24/47)\n",
      "Calculating word dist for ['T', 'R', 'AY', 'HH', 'AE', 'NG', 'G', 'AH', 'L']                  (25/47)\n",
      "Calculating word dist for ['T', 'R', 'AY', 'JH', 'AE', 'NG', 'G', 'AH', 'L']                  (26/47)\n",
      "Calculating word dist for ['T', 'R', 'AY', 'L', 'AE', 'NG', 'G', 'AH', 'L']                  (27/47)\n",
      "Calculating word dist for ['T', 'R', 'AY', 'M', 'AE', 'NG', 'G', 'AH', 'L']                  (28/47)\n",
      "Calculating word dist for ['T', 'R', 'AY', 'P', 'AE', 'NG', 'G', 'AH', 'L']                  (29/47)\n",
      "Calculating word dist for ['T', 'R', 'AY', 'R', 'AE', 'NG', 'G', 'AH', 'L']                  (30/47)\n",
      "Calculating word dist for ['T', 'R', 'AY', 'S', 'AE', 'NG', 'G', 'AH', 'L']                  (31/47)\n",
      "Calculating word dist for ['T', 'R', 'AY', 'SH', 'AE', 'NG', 'G', 'AH', 'L']                  (32/47)\n",
      "Calculating word dist for ['T', 'R', 'AY', 'T', 'AE', 'NG', 'G', 'AH', 'L']                  (33/47)\n",
      "Calculating word dist for ['T', 'R', 'AY', 'TH', 'AE', 'NG', 'G', 'AH', 'L']                  (34/47)\n",
      "Calculating word dist for ['T', 'R', 'AY', 'V', 'AE', 'NG', 'G', 'AH', 'L']                  (35/47)\n",
      "Calculating word dist for ['T', 'R', 'AY', 'Y', 'AE', 'NG', 'G', 'AH', 'L']                  (36/47)\n",
      "Calculating word dist for ['T', 'R', 'AY', 'Z', 'AE', 'NG', 'G', 'AH', 'L']                  (37/47)\n",
      "Calculating word dist for ['T', 'R', 'AY', 'AE', 'B', 'G', 'AH', 'L']                  (38/47)\n",
      "Calculating word dist for ['T', 'R', 'AY', 'AE', 'D', 'G', 'AH', 'L']                  (39/47)\n",
      "Calculating word dist for ['T', 'R', 'AY', 'AE', 'K', 'G', 'AH', 'L']                  (40/47)\n",
      "Calculating word dist for ['T', 'R', 'AY', 'AE', 'L', 'G', 'AH', 'L']                  (41/47)\n",
      "Words:[['G', 'AA', 'L'], ['G', 'AE', 'L'], ['G', 'AO', 'L'], ['G', 'EH', 'L'], ['G', 'EY', 'L'], ['G', 'IH', 'L'], ['G', 'IY', 'L'], ['G', 'OW', 'L'], ['B', 'AH', 'L'], ['CH', 'AH', 'L'], ['D', 'AH', 'L'], ['F', 'AH', 'L'], ['G', 'AH', 'L'], ['HH', 'AH', 'L'], ['JH', 'AH', 'L'], ['K', 'AH', 'L'], ['M', 'AH', 'L'], ['N', 'AH', 'L'], ['P', 'AH', 'L'], ['R', 'AH', 'L'], ['S', 'AH', 'L'], ['SH', 'AH', 'L'], ['T', 'AH', 'L'], ['TH', 'AH', 'L'], ['V', 'AH', 'L'], ['W', 'AH', 'L'], ['Y', 'AH', 'L'], ['Z', 'AH', 'L'], ['AH', 'L'], ['G', 'R', 'AH', 'L'], ['G', 'AH', 'L'], ['G', 'AH', 'M'], ['G', 'AH', 'N'], ['G', 'AH', 'S'], ['G', 'AH', 'T'], ['G', 'AH'], ['G', 'AH', 'L', 'D'], ['G', 'AH', 'L', 'Z']]\n",
      "Calculating word dist for ['T', 'R', 'AY', 'AE', 'NG', 'G', 'AA', 'L']                  (1/38)\n",
      "AVERAGE_DIST: 0.8706395348837209\n",
      "EXECUTION_TIME:  2.00 mins          31.32 seconds\n"
     ]
    }
   ],
   "source": [
    "for word_name in words_to_test:\n",
    "    ex_time, average_dist = test_generator1(word_name)\n",
    "    experiment1.at[word_name] = {\"time\":float(ex_time), \"average_dist\": str(round(average_dist, 3))}"
   ]
  },
  {
   "cell_type": "code",
   "execution_count": 8,
   "metadata": {},
   "outputs": [
    {
     "data": {
      "text/html": [
       "<div>\n",
       "<style scoped>\n",
       "    .dataframe tbody tr th:only-of-type {\n",
       "        vertical-align: middle;\n",
       "    }\n",
       "\n",
       "    .dataframe tbody tr th {\n",
       "        vertical-align: top;\n",
       "    }\n",
       "\n",
       "    .dataframe thead th {\n",
       "        text-align: right;\n",
       "    }\n",
       "</style>\n",
       "<table border=\"1\" class=\"dataframe\">\n",
       "  <thead>\n",
       "    <tr style=\"text-align: right;\">\n",
       "      <th></th>\n",
       "      <th>time</th>\n",
       "      <th>average_dist</th>\n",
       "    </tr>\n",
       "  </thead>\n",
       "  <tbody>\n",
       "    <tr>\n",
       "      <th>a</th>\n",
       "      <td>132.906</td>\n",
       "      <td>1.802</td>\n",
       "    </tr>\n",
       "    <tr>\n",
       "      <th>cat</th>\n",
       "      <td>62.5837</td>\n",
       "      <td>1.474</td>\n",
       "    </tr>\n",
       "    <tr>\n",
       "      <th>tested</th>\n",
       "      <td>128.724</td>\n",
       "      <td>0.678</td>\n",
       "    </tr>\n",
       "    <tr>\n",
       "      <th>triangle</th>\n",
       "      <td>151.316</td>\n",
       "      <td>0.871</td>\n",
       "    </tr>\n",
       "  </tbody>\n",
       "</table>\n",
       "</div>"
      ],
      "text/plain": [
       "             time average_dist\n",
       "a         132.906        1.802\n",
       "cat       62.5837        1.474\n",
       "tested    128.724        0.678\n",
       "triangle  151.316        0.871"
      ]
     },
     "execution_count": 8,
     "metadata": {},
     "output_type": "execute_result"
    }
   ],
   "source": [
    "experiment1"
   ]
  },
  {
   "cell_type": "code",
   "execution_count": 9,
   "metadata": {},
   "outputs": [
    {
     "ename": "PermissionError",
     "evalue": "[Errno 13] Permission denied: 'tests/experiment1.csv'",
     "output_type": "error",
     "traceback": [
      "\u001b[1;31m---------------------------------------------------------------------------\u001b[0m",
      "\u001b[1;31mPermissionError\u001b[0m                           Traceback (most recent call last)",
      "\u001b[1;32m<ipython-input-9-5cf775f16e3b>\u001b[0m in \u001b[0;36m<module>\u001b[1;34m\u001b[0m\n\u001b[1;32m----> 1\u001b[1;33m \u001b[0mexperiment1\u001b[0m\u001b[1;33m.\u001b[0m\u001b[0mto_csv\u001b[0m\u001b[1;33m(\u001b[0m\u001b[1;34mr'tests/experiment1.csv'\u001b[0m\u001b[1;33m,\u001b[0m \u001b[0mindex\u001b[0m \u001b[1;33m=\u001b[0m \u001b[1;32mFalse\u001b[0m\u001b[1;33m)\u001b[0m\u001b[1;33m\u001b[0m\u001b[1;33m\u001b[0m\u001b[0m\n\u001b[0m",
      "\u001b[1;32mC:\\ProgramData\\Anaconda3\\lib\\site-packages\\pandas\\core\\generic.py\u001b[0m in \u001b[0;36mto_csv\u001b[1;34m(self, path_or_buf, sep, na_rep, float_format, columns, header, index, index_label, mode, encoding, compression, quoting, quotechar, line_terminator, chunksize, tupleize_cols, date_format, doublequote, escapechar, decimal)\u001b[0m\n\u001b[0;32m   3018\u001b[0m                                  \u001b[0mdoublequote\u001b[0m\u001b[1;33m=\u001b[0m\u001b[0mdoublequote\u001b[0m\u001b[1;33m,\u001b[0m\u001b[1;33m\u001b[0m\u001b[1;33m\u001b[0m\u001b[0m\n\u001b[0;32m   3019\u001b[0m                                  escapechar=escapechar, decimal=decimal)\n\u001b[1;32m-> 3020\u001b[1;33m         \u001b[0mformatter\u001b[0m\u001b[1;33m.\u001b[0m\u001b[0msave\u001b[0m\u001b[1;33m(\u001b[0m\u001b[1;33m)\u001b[0m\u001b[1;33m\u001b[0m\u001b[1;33m\u001b[0m\u001b[0m\n\u001b[0m\u001b[0;32m   3021\u001b[0m \u001b[1;33m\u001b[0m\u001b[0m\n\u001b[0;32m   3022\u001b[0m         \u001b[1;32mif\u001b[0m \u001b[0mpath_or_buf\u001b[0m \u001b[1;32mis\u001b[0m \u001b[1;32mNone\u001b[0m\u001b[1;33m:\u001b[0m\u001b[1;33m\u001b[0m\u001b[1;33m\u001b[0m\u001b[0m\n",
      "\u001b[1;32mC:\\ProgramData\\Anaconda3\\lib\\site-packages\\pandas\\io\\formats\\csvs.py\u001b[0m in \u001b[0;36msave\u001b[1;34m(self)\u001b[0m\n\u001b[0;32m    155\u001b[0m             f, handles = _get_handle(self.path_or_buf, self.mode,\n\u001b[0;32m    156\u001b[0m                                      \u001b[0mencoding\u001b[0m\u001b[1;33m=\u001b[0m\u001b[0mself\u001b[0m\u001b[1;33m.\u001b[0m\u001b[0mencoding\u001b[0m\u001b[1;33m,\u001b[0m\u001b[1;33m\u001b[0m\u001b[1;33m\u001b[0m\u001b[0m\n\u001b[1;32m--> 157\u001b[1;33m                                      compression=self.compression)\n\u001b[0m\u001b[0;32m    158\u001b[0m             \u001b[0mclose\u001b[0m \u001b[1;33m=\u001b[0m \u001b[1;32mTrue\u001b[0m\u001b[1;33m\u001b[0m\u001b[1;33m\u001b[0m\u001b[0m\n\u001b[0;32m    159\u001b[0m \u001b[1;33m\u001b[0m\u001b[0m\n",
      "\u001b[1;32mC:\\ProgramData\\Anaconda3\\lib\\site-packages\\pandas\\io\\common.py\u001b[0m in \u001b[0;36m_get_handle\u001b[1;34m(path_or_buf, mode, encoding, compression, memory_map, is_text)\u001b[0m\n\u001b[0;32m    422\u001b[0m         \u001b[1;32melif\u001b[0m \u001b[0mencoding\u001b[0m\u001b[1;33m:\u001b[0m\u001b[1;33m\u001b[0m\u001b[1;33m\u001b[0m\u001b[0m\n\u001b[0;32m    423\u001b[0m             \u001b[1;31m# Python 3 and encoding\u001b[0m\u001b[1;33m\u001b[0m\u001b[1;33m\u001b[0m\u001b[1;33m\u001b[0m\u001b[0m\n\u001b[1;32m--> 424\u001b[1;33m             \u001b[0mf\u001b[0m \u001b[1;33m=\u001b[0m \u001b[0mopen\u001b[0m\u001b[1;33m(\u001b[0m\u001b[0mpath_or_buf\u001b[0m\u001b[1;33m,\u001b[0m \u001b[0mmode\u001b[0m\u001b[1;33m,\u001b[0m \u001b[0mencoding\u001b[0m\u001b[1;33m=\u001b[0m\u001b[0mencoding\u001b[0m\u001b[1;33m,\u001b[0m \u001b[0mnewline\u001b[0m\u001b[1;33m=\u001b[0m\u001b[1;34m\"\"\u001b[0m\u001b[1;33m)\u001b[0m\u001b[1;33m\u001b[0m\u001b[1;33m\u001b[0m\u001b[0m\n\u001b[0m\u001b[0;32m    425\u001b[0m         \u001b[1;32melif\u001b[0m \u001b[0mis_text\u001b[0m\u001b[1;33m:\u001b[0m\u001b[1;33m\u001b[0m\u001b[1;33m\u001b[0m\u001b[0m\n\u001b[0;32m    426\u001b[0m             \u001b[1;31m# Python 3 and no explicit encoding\u001b[0m\u001b[1;33m\u001b[0m\u001b[1;33m\u001b[0m\u001b[1;33m\u001b[0m\u001b[0m\n",
      "\u001b[1;31mPermissionError\u001b[0m: [Errno 13] Permission denied: 'tests/experiment1.csv'"
     ]
    }
   ],
   "source": [
    "experiment1.to_csv(r'tests/experiment1.csv', index = False)"
   ]
  },
  {
   "cell_type": "markdown",
   "metadata": {},
   "source": [
    "# Phoneme to Text"
   ]
  },
  {
   "cell_type": "code",
   "execution_count": null,
   "metadata": {},
   "outputs": [],
   "source": [
    "syllables = [\"D\", \"AW\", \"G\", \"ER\"]\n",
    "#syllables = list(map(' '.join, syllables))\n",
    "dictionary = [[\"D AW G E R\"],[\"D AW G\"], [\"E R\"]]"
   ]
  },
  {
   "cell_type": "code",
   "execution_count": null,
   "metadata": {},
   "outputs": [],
   "source": [
    "def powerset(iterable):\n",
    "    s = list(iterable)\n",
    "    return list(chain.from_iterable(combinations(s, r) for r in range(len(s)+1)))"
   ]
  },
  {
   "cell_type": "code",
   "execution_count": null,
   "metadata": {},
   "outputs": [],
   "source": [
    "def split(word, indexes):\n",
    "    boundary = 0\n",
    "    x = []\n",
    "    i = 0\n",
    "    for i in range(len(indexes)):\n",
    "        split = indexes[i]\n",
    "        x.append(word[boundary:split])\n",
    "        boundary = split\n",
    "    x.append(word[boundary:])\n",
    "    return x"
   ]
  },
  {
   "cell_type": "code",
   "execution_count": null,
   "metadata": {},
   "outputs": [],
   "source": [
    "s = \"ABCDE\"\n",
    "#powerset((range(1, len(s))))"
   ]
  },
  {
   "cell_type": "code",
   "execution_count": null,
   "metadata": {},
   "outputs": [],
   "source": [
    "split_indexes = powerset((range(1, len(syllables))))\n",
    "for s in split_indexes:\n",
    "    print(split(syllables, s)) # Checi if in dictionary\n",
    "    #y = list(filter(lambda x: all(x in dictionary), split(syllables, s))) # Checi if in dictionary"
   ]
  },
  {
   "cell_type": "code",
   "execution_count": null,
   "metadata": {},
   "outputs": [],
   "source": [
    "def split_sizes(n):\n",
    "    \"\"\"\n",
    "    Generate all integer partitions of n\n",
    "    in reverse lexicographic order\n",
    "    \"\"\"\n",
    "    if n == 0:\n",
    "        yield []\n",
    "        return\n",
    "    for p in split_sizes(n - 1):\n",
    "        if len(p) == 1 or (len(p) > 1 and p[-1] < p[-2]):\n",
    "            p[-1] += 1\n",
    "            yield p\n",
    "            p[-1] -= 1\n",
    "        p.append(1)\n",
    "        yield p\n",
    "        p.pop()\n",
    "\n",
    "def valid_words(syllables, lengths):\n",
    "    splits = []\n",
    "    for l in lengths:\n",
    "        splits.append([syllables[x - y: x] for x, y in zip(accumulate(l), l)])\n",
    "    return splits"
   ]
  },
  {
   "cell_type": "code",
   "execution_count": null,
   "metadata": {},
   "outputs": [],
   "source": [
    "lengths = split_sizes(len(syllables))\n",
    "print(list(lengths))\n",
    "#for l in lengths:\n",
    "for i in valid_words(syllables, lengths):\n",
    "    #i = list(map(' '.join, syllables))\n",
    "    print(i)"
   ]
  },
  {
   "cell_type": "markdown",
   "metadata": {},
   "source": [
    "# RZ"
   ]
  },
  {
   "cell_type": "code",
   "execution_count": null,
   "metadata": {},
   "outputs": [],
   "source": [
    "# Compare with RZ\n",
    "def compare_RZ(target, num_words): \n",
    "    api = datamuse.Datamuse()\n",
    "    s = Syllabifier()\n",
    "    wd = WordDistance()\n",
    "    target_p = s.to_syllables(s.to_phoneme(target))\n",
    "    word_list = api.words(sl=target, max=num_words)\n",
    "    for entry in word_list:\n",
    "        sim_word = entry[\"word\"]\n",
    "        score = entry[\"score\"]\n",
    "        if s.is_valid(sim_word):\n",
    "            sim_p = s.to_syllables(s.to_phoneme(sim_word))\n",
    "            print(wd.word_dist(target_p, sim_p, True), \"SCORE=\", score)"
   ]
  },
  {
   "cell_type": "code",
   "execution_count": null,
   "metadata": {},
   "outputs": [],
   "source": [
    "compare_RZ(\"incredible\", 1)"
   ]
  },
  {
   "cell_type": "code",
   "execution_count": null,
   "metadata": {},
   "outputs": [],
   "source": [
    "api = datamuse.Datamuse()\n",
    "api.words(sl=\"incredible\", max=10)"
   ]
  },
  {
   "cell_type": "code",
   "execution_count": null,
   "metadata": {},
   "outputs": [],
   "source": [
    "res"
   ]
  },
  {
   "cell_type": "code",
   "execution_count": null,
   "metadata": {},
   "outputs": [],
   "source": [
    "import text_mapper"
   ]
  },
  {
   "cell_type": "code",
   "execution_count": null,
   "metadata": {},
   "outputs": [],
   "source": [
    "text_mapper.phoneme_to_text(['T', 'AE', 'S', 'T'])"
   ]
  },
  {
   "cell_type": "code",
   "execution_count": null,
   "metadata": {},
   "outputs": [],
   "source": [
    "print(pronouncable(['K', 'AE', 'T'], 0.03, True))"
   ]
  },
  {
   "cell_type": "code",
   "execution_count": null,
   "metadata": {},
   "outputs": [],
   "source": [
    "x = text_mapper.phoneme_to_text(['T', 'UW'])"
   ]
  },
  {
   "cell_type": "code",
   "execution_count": null,
   "metadata": {},
   "outputs": [],
   "source": [
    "for i, j in x.items():\n",
    "    print(i,j)"
   ]
  },
  {
   "cell_type": "code",
   "execution_count": null,
   "metadata": {},
   "outputs": [],
   "source": [
    "pronouncable(['D', 'AO', 'G', \"Z\"], verbose=True)"
   ]
  },
  {
   "cell_type": "code",
   "execution_count": null,
   "metadata": {},
   "outputs": [],
   "source": []
  }
 ],
 "metadata": {
  "kernelspec": {
   "display_name": "Python 3",
   "language": "python",
   "name": "python3"
  },
  "language_info": {
   "codemirror_mode": {
    "name": "ipython",
    "version": 3
   },
   "file_extension": ".py",
   "mimetype": "text/x-python",
   "name": "python",
   "nbconvert_exporter": "python",
   "pygments_lexer": "ipython3",
   "version": "3.7.3"
  }
 },
 "nbformat": 4,
 "nbformat_minor": 2
}
