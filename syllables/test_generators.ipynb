{
 "cells": [
  {
   "cell_type": "code",
   "execution_count": 1,
   "metadata": {},
   "outputs": [],
   "source": [
    "import os\n",
    "os.chdir(\"C:/Users/fiona/Desktop/SimilarSpeak/syllables\")"
   ]
  },
  {
   "cell_type": "code",
   "execution_count": 2,
   "metadata": {},
   "outputs": [],
   "source": [
    "from word_distance import WordDistance\n",
    "from syllabifier import Syllabifier\n",
    "from trigram_model import pronouncable\n",
    "import word_generator\n",
    "import datamuse\n",
    "os.chdir(\"C:/Users/fiona/Desktop/SimilarSpeak/\")"
   ]
  },
  {
   "cell_type": "code",
   "execution_count": 3,
   "metadata": {},
   "outputs": [],
   "source": [
    "def generate_edits1(syll, change_onsets=True, change_codas=True, thresh=0.015):\n",
    "    # Split syllable into (oneset, nucleus, coda)\n",
    "    vowels = ['AA', 'AE', 'AH', 'AO', 'AW', 'AY', 'EH',\n",
    "              'ER', 'EY', 'IH', 'IY', 'OW', 'OY', 'UH', 'UW']\n",
    "    vowel_i = list(map(lambda i: i in vowels, syll)).index(True)\n",
    "    onset, nucleus, coda = syll[:vowel_i], [syll[vowel_i]], syll[vowel_i+1:]\n",
    "\n",
    "    edits = []\n",
    "\n",
    "    # Vowel edits:\n",
    "    nucleus_swaps = [onset + i + coda for i in edits1(nucleus, True)]\n",
    "    edits += list(filter(lambda syll:\n",
    "                         pronouncable(syll, thresh), nucleus_swaps))\n",
    "    # Onset edits:\n",
    "    if(change_onsets):\n",
    "        onset_swaps = [i + nucleus + coda for i in edits1(onset, False)]\n",
    "        edits += list(filter(lambda syll:\n",
    "                      pronouncable(syll, thresh), onset_swaps))\n",
    "    # Coda edits\n",
    "    if(change_codas):\n",
    "        coda_swaps = [onset + nucleus + i for i in edits1(coda, False)]\n",
    "        edits += list(filter(lambda syll:\n",
    "                      pronouncable(syll, thresh), coda_swaps))\n",
    "    return edits"
   ]
  },
  {
   "cell_type": "code",
   "execution_count": 4,
   "metadata": {},
   "outputs": [
    {
     "name": "stdout",
     "output_type": "stream",
     "text": [
      "[['IH', 'N'], ['K', 'R', 'EH'], ['D', 'AH'], ['B', 'AH', 'L']] \n",
      " [['IH'], ['N', 'EH'], ['K', 'W', 'AH'], ['T', 'AH'], ['B', 'AH', 'L']]\n"
     ]
    }
   ],
   "source": [
    "w1 = \"incredible\"\n",
    "w2 = \"inequitable\"\n",
    "s = Syllabifier()\n",
    "p1 = s.to_phoneme(w1)\n",
    "p2 = s.to_phoneme(w2)\n",
    "t1 = s.to_syllables(p1)\n",
    "t2 = s.to_syllables(p2)\n",
    "print(t1,\"\\n\",t2)"
   ]
  },
  {
   "cell_type": "code",
   "execution_count": 5,
   "metadata": {},
   "outputs": [
    {
     "name": "stdout",
     "output_type": "stream",
     "text": [
      "['IH', 'N', 'K', 'R', 'EH', 'D', 'AH', 'B', 'AH', 'L'] \n",
      " ['IH', 'N', 'EH', 'K', 'W', 'AH', 'T', 'AH', 'B', 'AH', 'L']\n"
     ]
    }
   ],
   "source": [
    "print(p1,\"\\n\",p2)"
   ]
  },
  {
   "cell_type": "code",
   "execution_count": 55,
   "metadata": {},
   "outputs": [
    {
     "ename": "TypeError",
     "evalue": "can only concatenate tuple (not \"str\") to tuple",
     "output_type": "error",
     "traceback": [
      "\u001b[1;31m---------------------------------------------------------------------------\u001b[0m",
      "\u001b[1;31mTypeError\u001b[0m                                 Traceback (most recent call last)",
      "\u001b[1;32m<ipython-input-55-a4fa3dfcc295>\u001b[0m in \u001b[0;36m<module>\u001b[1;34m\u001b[0m\n\u001b[1;32m----> 1\u001b[1;33m \u001b[0mw1\u001b[0m \u001b[1;33m=\u001b[0m \u001b[1;33m(\u001b[0m\u001b[1;34m\"K\"\u001b[0m\u001b[1;33m,\u001b[0m \u001b[1;34m\"OW\"\u001b[0m\u001b[1;33m,\u001b[0m \u001b[1;34m\"T\"\u001b[0m\u001b[1;33m)\u001b[0m \u001b[1;33m+\u001b[0m \u001b[1;34m\"Z\"\u001b[0m\u001b[1;33m\u001b[0m\u001b[1;33m\u001b[0m\u001b[0m\n\u001b[0m\u001b[0;32m      2\u001b[0m \u001b[0mw2\u001b[0m \u001b[1;33m=\u001b[0m \u001b[1;33m[\u001b[0m\u001b[1;34m\"K\"\u001b[0m\u001b[1;33m,\u001b[0m \u001b[1;34m\"OW\"\u001b[0m\u001b[1;33m,\u001b[0m \u001b[1;34m\"T\"\u001b[0m\u001b[1;33m]\u001b[0m\u001b[1;33m\u001b[0m\u001b[1;33m\u001b[0m\u001b[0m\n\u001b[0;32m      3\u001b[0m \u001b[0mw1\u001b[0m\u001b[1;33m\u001b[0m\u001b[1;33m\u001b[0m\u001b[0m\n\u001b[0;32m      4\u001b[0m \u001b[1;31m#pronouncable(w1, thresh=0.02, verbose=False)\u001b[0m\u001b[1;33m\u001b[0m\u001b[1;33m\u001b[0m\u001b[1;33m\u001b[0m\u001b[0m\n",
      "\u001b[1;31mTypeError\u001b[0m: can only concatenate tuple (not \"str\") to tuple"
     ]
    }
   ],
   "source": [
    "w1 = (\"K\", \"OW\", \"T\") + \"Z\"\n",
    "w2 = [\"K\", \"OW\", \"T\"]\n",
    "w1\n",
    "#pronouncable(w1, thresh=0.02, verbose=False)"
   ]
  },
  {
   "cell_type": "code",
   "execution_count": null,
   "metadata": {},
   "outputs": [],
   "source": []
  },
  {
   "cell_type": "code",
   "execution_count": null,
   "metadata": {},
   "outputs": [],
   "source": []
  },
  {
   "cell_type": "markdown",
   "metadata": {},
   "source": [
    "# RZ"
   ]
  },
  {
   "cell_type": "code",
   "execution_count": 6,
   "metadata": {},
   "outputs": [],
   "source": [
    "# Compare with RZ\n",
    "def compare_RZ(target, num_words): \n",
    "    api = datamuse.Datamuse()\n",
    "    s = Syllabifier()\n",
    "    wd = WordDistance()\n",
    "    target_p = s.to_syllables(s.to_phoneme(target))\n",
    "    word_list = api.words(sl=target, max=num_words)\n",
    "    for entry in word_list:\n",
    "        sim_word = entry[\"word\"]\n",
    "        score = entry[\"score\"]\n",
    "        if s.is_valid(sim_word):\n",
    "            sim_p = s.to_syllables(s.to_phoneme(sim_word))\n",
    "            print(wd.word_dist(target_p, sim_p, True), \"SCORE=\", score)"
   ]
  },
  {
   "cell_type": "code",
   "execution_count": 7,
   "metadata": {},
   "outputs": [
    {
     "name": "stdout",
     "output_type": "stream",
     "text": [
      "['IH', 'N', 'K', 'R', 'EH', 'D', 'AH', 'B', 'AH', 'L']\n",
      "['IH', 'N', 'K', 'R', 'EH', 'D', 'AH', 'B', 'AH', 'L']\n",
      "0.0 SCORE= 100\n"
     ]
    }
   ],
   "source": [
    "compare_RZ(\"incredible\", 1)"
   ]
  },
  {
   "cell_type": "code",
   "execution_count": 8,
   "metadata": {},
   "outputs": [
    {
     "data": {
      "text/plain": [
       "[{'word': 'incredible', 'score': 100, 'numSyllables': 4},\n",
       " {'word': 'incredibile', 'score': 95, 'numSyllables': 4},\n",
       " {'word': 'uncredible', 'score': 95, 'numSyllables': 4},\n",
       " {'word': 'incroyable', 'score': 85, 'numSyllables': 4},\n",
       " {'word': 'increasable', 'score': 85, 'numSyllables': 4},\n",
       " {'word': 'incredibly', 'score': 80, 'numSyllables': 4},\n",
       " {'word': 'inscrutable', 'score': 80, 'numSyllables': 4},\n",
       " {'word': 'inedible', 'score': 80, 'numSyllables': 4},\n",
       " {'word': 'uncorrectable', 'score': 80, 'numSyllables': 5},\n",
       " {'word': 'incharitable', 'score': 80, 'numSyllables': 5}]"
      ]
     },
     "execution_count": 8,
     "metadata": {},
     "output_type": "execute_result"
    }
   ],
   "source": [
    "api = datamuse.Datamuse()\n",
    "api.words(sl=\"incredible\", max=10)"
   ]
  },
  {
   "cell_type": "code",
   "execution_count": null,
   "metadata": {},
   "outputs": [],
   "source": []
  }
 ],
 "metadata": {
  "kernelspec": {
   "display_name": "Python 3",
   "language": "python",
   "name": "python3"
  },
  "language_info": {
   "codemirror_mode": {
    "name": "ipython",
    "version": 3
   },
   "file_extension": ".py",
   "mimetype": "text/x-python",
   "name": "python",
   "nbconvert_exporter": "python",
   "pygments_lexer": "ipython3",
   "version": "3.7.3"
  }
 },
 "nbformat": 4,
 "nbformat_minor": 2
}
