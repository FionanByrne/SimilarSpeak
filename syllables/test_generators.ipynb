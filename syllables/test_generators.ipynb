{
 "cells": [
  {
   "cell_type": "code",
   "execution_count": 1,
   "metadata": {},
   "outputs": [],
   "source": [
    "import os\n",
    "os.chdir(\"C:/Users/fiona/Desktop/SimilarSpeak/syllables\")"
   ]
  },
  {
   "cell_type": "code",
   "execution_count": 2,
   "metadata": {},
   "outputs": [],
   "source": [
    "from word_generator import closest_edits1\n",
    "from word_distance import WordDistance\n",
    "from syllabifier import Syllabifier\n",
    "from trigram_model import pronouncable\n",
    "import datamuse\n",
    "import operator"
   ]
  },
  {
   "cell_type": "code",
   "execution_count": 3,
   "metadata": {},
   "outputs": [],
   "source": [
    "os.chdir(\"C:/Users/fiona/Desktop/SimilarSpeak/\")"
   ]
  },
  {
   "cell_type": "code",
   "execution_count": 4,
   "metadata": {},
   "outputs": [],
   "source": [
    "# w1 = \"incredible\"\n",
    "# w2 = \"inequitable\"\n",
    "# s = Syllabifier()\n",
    "# p1 = s.to_phoneme(w1)\n",
    "# p2 = s.to_phoneme(w2)\n",
    "# t1 = s.to_syllables(p1)\n",
    "# t2 = s.to_syllables(p2)\n",
    "# print(t1,\"\\n\",t2)"
   ]
  },
  {
   "cell_type": "code",
   "execution_count": 8,
   "metadata": {},
   "outputs": [],
   "source": [
    "def test_generator1(target, num_entries):\n",
    "    # Get Average Distance of Generator1 function\n",
    "    s = Syllabifier()\n",
    "    syllables = s.to_syllables(s.to_phoneme(target))\n",
    "    sim_words = closest_edits1(syllables, num_entries)\n",
    "    total_dist = 0\n",
    "    for word, dist in sim_words.items():\n",
    "        total_dist += dist\n",
    "    return total_dist/len(sim_words)"
   ]
  },
  {
   "cell_type": "code",
   "execution_count": 9,
   "metadata": {},
   "outputs": [
    {
     "data": {
      "text/plain": [
       "0.5160256410256411"
      ]
     },
     "execution_count": 9,
     "metadata": {},
     "output_type": "execute_result"
    }
   ],
   "source": [
    "test_generator1(\"dog\", num_entries=100)"
   ]
  },
  {
   "cell_type": "code",
   "execution_count": 10,
   "metadata": {},
   "outputs": [
    {
     "data": {
      "text/plain": [
       "23"
      ]
     },
     "execution_count": 10,
     "metadata": {},
     "output_type": "execute_result"
    }
   ],
   "source": [
    "len(closest_edits1([[\"D\", \"AW\", \"G\"]], 100))"
   ]
  },
  {
   "cell_type": "markdown",
   "metadata": {},
   "source": [
    "# RZ"
   ]
  },
  {
   "cell_type": "code",
   "execution_count": null,
   "metadata": {},
   "outputs": [],
   "source": [
    "# Compare with RZ\n",
    "def compare_RZ(target, num_words): \n",
    "    api = datamuse.Datamuse()\n",
    "    s = Syllabifier()\n",
    "    wd = WordDistance()\n",
    "    target_p = s.to_syllables(s.to_phoneme(target))\n",
    "    word_list = api.words(sl=target, max=num_words)\n",
    "    for entry in word_list:\n",
    "        sim_word = entry[\"word\"]\n",
    "        score = entry[\"score\"]\n",
    "        if s.is_valid(sim_word):\n",
    "            sim_p = s.to_syllables(s.to_phoneme(sim_word))\n",
    "            print(wd.word_dist(target_p, sim_p, True), \"SCORE=\", score)"
   ]
  },
  {
   "cell_type": "code",
   "execution_count": null,
   "metadata": {},
   "outputs": [],
   "source": [
    "compare_RZ(\"incredible\", 1)"
   ]
  },
  {
   "cell_type": "code",
   "execution_count": null,
   "metadata": {},
   "outputs": [],
   "source": [
    "api = datamuse.Datamuse()\n",
    "api.words(sl=\"incredible\", max=10)"
   ]
  },
  {
   "cell_type": "code",
   "execution_count": null,
   "metadata": {},
   "outputs": [],
   "source": []
  }
 ],
 "metadata": {
  "kernelspec": {
   "display_name": "Python 3",
   "language": "python",
   "name": "python3"
  },
  "language_info": {
   "codemirror_mode": {
    "name": "ipython",
    "version": 3
   },
   "file_extension": ".py",
   "mimetype": "text/x-python",
   "name": "python",
   "nbconvert_exporter": "python",
   "pygments_lexer": "ipython3",
   "version": "3.7.3"
  }
 },
 "nbformat": 4,
 "nbformat_minor": 2
}
